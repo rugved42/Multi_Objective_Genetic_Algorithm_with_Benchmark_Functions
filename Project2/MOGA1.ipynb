{
 "cells": [
  {
   "cell_type": "code",
   "execution_count": 798,
   "metadata": {},
   "outputs": [
    {
     "name": "stdout",
     "output_type": "stream",
     "text": [
      "C:\\Users\\ADMIN\\Desktop\\Heuristic\\Project2\n"
     ]
    }
   ],
   "source": [
    "%cd Project2/"
   ]
  },
  {
   "cell_type": "code",
   "execution_count": 50,
   "metadata": {},
   "outputs": [],
   "source": [
    "import math \n",
    "import numpy as np \n",
    "import matplotlib.pyplot as plt \n",
    "import random"
   ]
  },
  {
   "cell_type": "code",
   "execution_count": 108,
   "metadata": {},
   "outputs": [],
   "source": [
    "# N = 100\n",
    "# n = 10\n",
    "# decision_variables = 1\n",
    "# ss = 0.5 \n",
    "# prob_c = 0.60\n",
    "# prob_m = 0.05"
   ]
  },
  {
   "cell_type": "code",
   "execution_count": 423,
   "metadata": {},
   "outputs": [],
   "source": [
    "def population_gen(N,n,decision_variables):\n",
    "    pop = []\n",
    "    for i in range(decision_variables):\n",
    "        x = [np.random.randint(2, size =n) for x in range(N)]\n",
    "        y = [list(i) for i in x]\n",
    "        pop.append(y)\n",
    "        \n",
    "#     print(y)\n",
    "#     print(np.array(y).shape)\n",
    "    return (pop)\n",
    "# x = population_gen(N,n,2)\n",
    "# print(x)"
   ]
  },
  {
   "cell_type": "code",
   "execution_count": 424,
   "metadata": {},
   "outputs": [],
   "source": [
    "def bin2dec(a):\n",
    "    obj_fun_val_pop = []\n",
    "    for i, row in enumerate(a):\n",
    "#         print(\"i,row\",i,row)\n",
    "        res = int(\"\".join(str(x) for x in row), 2) \n",
    "#         print(\"The converted integer value is : \" +  str(res))\n",
    "        obj_fun_val_pop.append(str(res))\n",
    "    return obj_fun_val_pop"
   ]
  },
  {
   "cell_type": "code",
   "execution_count": 840,
   "metadata": {},
   "outputs": [],
   "source": [
    "def var_split(a):\n",
    "    varaa = []\n",
    "    for i in a:\n",
    "        t = bin2dec(i)\n",
    "        varaa.append(t)\n",
    "#     print(varaa)\n",
    "    return varaa"
   ]
  },
  {
   "cell_type": "code",
   "execution_count": 853,
   "metadata": {},
   "outputs": [],
   "source": [
    "def decodemsg(lb,ub,n,dec):\n",
    "    s = (ub - lb)/(2**n)\n",
    "#     print(s)\n",
    "    actual_con = []\n",
    "    for i,num in enumerate(dec):\n",
    "#         print(num)\n",
    "        x = lb + s*int(num)\n",
    "        actual_con.append(x)\n",
    "    return actual_con"
   ]
  },
  {
   "cell_type": "code",
   "execution_count": 854,
   "metadata": {},
   "outputs": [],
   "source": [
    "def decode_split(lb, ub, n, b2d): \n",
    "    deco_list = []\n",
    "    tmp  = b2d\n",
    "    r = []\n",
    "    for i in tmp: \n",
    "#         print(i)\n",
    "        r = decodemsg(lb,ub,n,i)\n",
    "        deco_list.append(r)\n",
    "#     print(deco_list)\n",
    "    return deco_list"
   ]
  },
  {
   "cell_type": "code",
   "execution_count": 935,
   "metadata": {},
   "outputs": [],
   "source": [
    "def decode_split_bnk(b2d): \n",
    "    deco_list = []\n",
    "    r = []\n",
    "    for i, lis in enumerate(b2d):\n",
    "        if i == 0:\n",
    "            r = decodemsg(0,5,10,lis)\n",
    "            deco_list.append(r)\n",
    "        if i == 1: \n",
    "            r = decodemsg(0,3,10,lis)\n",
    "            deco_list.append(r)\n",
    "    print(\"deco_list\",np.array(deco_list).shape)\n",
    "    return deco_list\n",
    "# dd = decode_split_bnk(b2d)\n",
    "# print(dd[1][0])"
   ]
  },
  {
   "cell_type": "code",
   "execution_count": 939,
   "metadata": {},
   "outputs": [],
   "source": [
    "def decode_split_brake(b2d): \n",
    "    deco_list = []\n",
    "    r = []\n",
    "    for i, lis in enumerate(b2d):\n",
    "        if i == 0:\n",
    "            r = decodemsg(55,80,10,lis)\n",
    "            deco_list.append(r)\n",
    "        if i == 1:\n",
    "            r = decodemsg(75,110,10,lis)\n",
    "            deco_list.append(r)\n",
    "        if i == 2: \n",
    "            r = decodemsg(1000,3000,10,lis)\n",
    "            deco_list.append(r)\n",
    "        if i == 3:\n",
    "            x = decodemsg(2,20,10,lis)\n",
    "            r = [int(i) for i in x]\n",
    "            deco_list.append(r)\n",
    "#     print(deco_list)\n",
    "    return deco_list\n"
   ]
  },
  {
   "cell_type": "code",
   "execution_count": 431,
   "metadata": {},
   "outputs": [],
   "source": [
    "def scaffer_function(deco_list): \n",
    "    tmp = deco_list\n",
    "    f1 = []\n",
    "    f2 = []\n",
    "    for i in tmp[0]: \n",
    "        x1 = i**2 \n",
    "        x2 = (i-2)**2\n",
    "        f1.append(x1)\n",
    "        f2.append(x2)\n",
    "#     print(f1,f2)\n",
    "    return f1,f2"
   ]
  },
  {
   "cell_type": "code",
   "execution_count": 432,
   "metadata": {},
   "outputs": [],
   "source": [
    "def scaffer_function2(deco_list): \n",
    "    tmp = deco_list\n",
    "    f1 = []\n",
    "    f2 = []\n",
    "    for i,x in enumerate(tmp[0]): \n",
    "        if x <= 1:\n",
    "            x1 = -x\n",
    "            f1.append(x1)\n",
    "        elif x > 1 and x <= 3:\n",
    "            x1 = x - 2\n",
    "            f1.append(x1)\n",
    "        elif x > 3 and x <= 4: \n",
    "            x1 = 4-x\n",
    "            f1.append(x1)\n",
    "        elif x > 4: \n",
    "            x1 = x - 4\n",
    "            f1.append(x1)\n",
    "        x2 = (x - 5)**2\n",
    "        f2.append(x2) \n",
    "#     print(f1,f2)\n",
    "    return f1, f2"
   ]
  },
  {
   "cell_type": "code",
   "execution_count": 979,
   "metadata": {},
   "outputs": [],
   "source": [
    "def ZDT4_deco(b2d): \n",
    "    deco_list = []\n",
    "    r = []\n",
    "    for i, lis in enumerate(b2d):\n",
    "        if i == 0:\n",
    "            r = decodemsg(0,1,10,lis)\n",
    "            deco_list.append(r)\n",
    "        if i == 1: \n",
    "            r = decodemsg(-5,5,10,lis)\n",
    "            deco_list.append(r)\n",
    "#     print(\"deco_list\",np.array(deco_list).shape)\n",
    "    return deco_list"
   ]
  },
  {
   "cell_type": "code",
   "execution_count": 433,
   "metadata": {},
   "outputs": [],
   "source": [
    "def ZDT1(deco_list):\n",
    "    f1 = []\n",
    "    f2 = []\n",
    "    temp = deco_list\n",
    "#     print(\"deco_list\",deco_list)\n",
    "    x = temp.pop(0)\n",
    "    x2 = [sum(row[j] for row in temp) for j in range(len(temp[0]))]\n",
    "#     print(\"x2\",x2)\n",
    "#     print(\"x2\",x2)\n",
    "    for i, element in enumerate(x):\n",
    "        f_1 = element\n",
    "        g = 1 + 0.3103*x2[i]\n",
    "        f_2 = g * (1 - np.sqrt(element / g))\n",
    "        f1.append(f_1)\n",
    "        f2.append(f_2)\n",
    "#     print(f1,f2)\n",
    "    return f1, f2 "
   ]
  },
  {
   "cell_type": "code",
   "execution_count": 434,
   "metadata": {},
   "outputs": [],
   "source": [
    "def ZDT2(dd):\n",
    "    f1 = []\n",
    "    f2 = []\n",
    "    temp = dd\n",
    "    x = temp.pop(0)\n",
    "    x2 = [sum(row[j] for row in temp) for j in range(len(temp[0]))]\n",
    "#     print(\"x2\",x2)\n",
    "    for i, element in enumerate(x):\n",
    "        f_1 = element\n",
    "        g = 1 + 0.3103*x2[i]\n",
    "        f_2 = g * (1 - (element / g)**2) \n",
    "        f1.append(f_1)\n",
    "        f2.append(f_2)\n",
    "#     print(f1,f2)\n",
    "    return f1, f2 "
   ]
  },
  {
   "cell_type": "code",
   "execution_count": 435,
   "metadata": {},
   "outputs": [],
   "source": [
    "def ZDT3(dd):\n",
    "    f1 = []\n",
    "    f2 = []\n",
    "    temp = dd\n",
    "    x = temp.pop(0)\n",
    "    x2 = [sum(row[j] for row in temp) for j in range(len(temp[0]))]\n",
    "#     print(\"x2\",x2)\n",
    "    for i, element in enumerate(x):\n",
    "        f_1 = element\n",
    "        g = 1 + 0.3103*x2[i]\n",
    "        f_2 = g * (1 - np.sqrt(element / g) - ((element / g)* (math.sin(10 * math.pi * f_1))))\n",
    "        f1.append(f_1)\n",
    "        f2.append(f_2)\n",
    "#     print(f1,f2)\n",
    "    return f1, f2 "
   ]
  },
  {
   "cell_type": "code",
   "execution_count": 966,
   "metadata": {},
   "outputs": [],
   "source": [
    "def ZDT4(dd):\n",
    "    f1 = []\n",
    "    f2 = []\n",
    "    temp = dd\n",
    "    x = temp.pop(0)\n",
    "    x2 = [sum(row[j] for row in temp) for j in range(len(temp[0]))]\n",
    "#     print(\"x2\",x2)\n",
    "    for i, element in enumerate(x):\n",
    "        f_1 = element\n",
    "        g = 91 + (x2[i])**2 + 10 * math.cos(4*math.pi*x2[i])\n",
    "        f_2 = g * (1 - np.sqrt(f_1 / g))\n",
    "        f1.append(f_1)\n",
    "        f2.append(f_2 -100)\n",
    "#     print(f1,f2)\n",
    "    return f1, f2 "
   ]
  },
  {
   "cell_type": "code",
   "execution_count": 657,
   "metadata": {},
   "outputs": [],
   "source": [
    "def ZDT6(dd):\n",
    "    f1 = []\n",
    "    f2 = []\n",
    "    temp = dd\n",
    "    x = temp.pop(0)\n",
    "    x2 = [sum(row[j] for row in temp) for j in range(len(temp[0]))]\n",
    "#     print(\"x2\",x2)\n",
    "    for i, element in enumerate(x):\n",
    "        f_12 = element\n",
    "        f_1 = 1 - math.exp(-1 * 4 * f_12) * (math.sin(6 * math.pi * f_12))**6 \n",
    "        g = 1 + 9*((x2[i] / 9)**0.25)\n",
    "        f_2 = g * (1 - (f_1 / g)**2) \n",
    "        f1.append(f_1)\n",
    "        f2.append(f_2 -5)\n",
    "#     print(f1,f2)\n",
    "    return f1, f2 "
   ]
  },
  {
   "cell_type": "code",
   "execution_count": 438,
   "metadata": {},
   "outputs": [],
   "source": [
    "def bnk(dd): # Binh and Korn Function Use split_bnk decoder with this function. \n",
    "    tmp = dd \n",
    "    f1,f2 = [],[]\n",
    "    for i, element in enumerate(tmp[0]): \n",
    "        g1,g2,x1,x2 = 0,0,0,0\n",
    "        g1 = (element - 5)**2 + (tmp[1][i]) **2\n",
    "        g2 = (element - 3)**2 + (tmp[1][i] + 3)**2 \n",
    "        x1 = 4 * (element)**2 + 4 * (tmp[1][i])**2 \n",
    "        x2 = (element - 5)**2 + (tmp[1][i] - 5)**2\n",
    "        if g1 <= 25 and g2 >= 7.7: \n",
    "            f1.append(x1)\n",
    "            f2.append(x2)\n",
    "        else: \n",
    "            f1.append(x1 + 100)\n",
    "            f2.append(x2 + 100)\n",
    "#     print(\"dd\",dd)\n",
    "#     print(f1,f2)\n",
    "    return f1,f2"
   ]
  },
  {
   "cell_type": "code",
   "execution_count": 439,
   "metadata": {},
   "outputs": [],
   "source": [
    "def brake_problem(dd): \n",
    "    tmp = dd\n",
    "    f1,f2 = [], []\n",
    "    for i, item in enumerate(tmp[0]):\n",
    "        g1,g2,g3,g4,g5,x1,x2 = 0,0,0,0,0,0,0\n",
    "        g2 = 2.5 * (tmp[3][i] + 1) - 30\n",
    "        g3 = tmp[2][i]/(math.pi * (tmp[1][i]**2 - item**2)) - 0.4\n",
    "        g4 = ((0.00222 * tmp[2][i] * (tmp[1][i]**3 - item**3))/(tmp[1][i]**2 - item**2)**2) - 1\n",
    "        g5 = 900 - ((0.0266 * tmp[2][i] * tmp[3][i] * (tmp[1][i]**3 - item**3))/(tmp[1][i]**2 - item**2))\n",
    "        x1 = 4.9 * math.pow(10, -5) * (tmp[1][i]**2 - item**2) * (tmp[3][i] - 1)\n",
    "        x2 = (9.82 * math.pow(10, 6) * (tmp[1][i]**2 - item**2))/(tmp[2][i] * tmp[3][i] * (tmp[1][i]**3 - item**3))\n",
    "        if g1 <= 0 and g2 <= 0 and g3 <=0 and g4 <=0 and g5 <=0 : \n",
    "            f1.append(x1)\n",
    "            f2.append(x2)\n",
    "        else: \n",
    "            f1.append(x1+100)\n",
    "            f2.append(x2+100)\n",
    "#     print(\"dd\",dd)\n",
    "#     print(f1, f2)\n",
    "    return f1, f2"
   ]
  },
  {
   "cell_type": "code",
   "execution_count": 440,
   "metadata": {},
   "outputs": [],
   "source": [
    "def rank_cal(f1,f2):\n",
    "    ns = 0\n",
    "    rnk = 0\n",
    "    rank = []\n",
    "    for x, i in enumerate(f1):\n",
    "        ns = 0\n",
    "        rnk = 0\n",
    "        for y,j in enumerate(f1): \n",
    "            if ((i >= j) and (f2[x] >= f2[y])) and ((i > j) or (f2[x] > f2[y])):\n",
    "                ns += 1\n",
    "        rnk = 1 + ns\n",
    "        rank.append(rnk)\n",
    "#     print(rank)\n",
    "    m = max(rank)\n",
    "    return rank"
   ]
  },
  {
   "cell_type": "code",
   "execution_count": 859,
   "metadata": {},
   "outputs": [],
   "source": [
    "def final_rank_cal(f1,f2):\n",
    "    ns = 0\n",
    "    rnk = 0\n",
    "    rank = []\n",
    "    f1_rank, f2_rank = [], []\n",
    "    for x, i in enumerate(f1):\n",
    "        ns = 0\n",
    "        rnk = 0\n",
    "        for y,j in enumerate(f1): \n",
    "            if ((i >= j) and (f2[x] >= f2[y])) and ((i > j) or (f2[x] > f2[y])):\n",
    "                ns += 1\n",
    "        rnk = 1 + ns\n",
    "        if rnk == 1: \n",
    "            f1_rank.append(i)\n",
    "            f2_rank.append(f2[y])\n",
    "        rank.append(rnk)\n",
    "#     print(rank)\n",
    "    m = max(rank)\n",
    "    return rank, f1_rank, f2_rank"
   ]
  },
  {
   "cell_type": "code",
   "execution_count": 441,
   "metadata": {},
   "outputs": [],
   "source": [
    "def avg_fitness_val(rank):\n",
    "    sume = 0\n",
    "    avg_fit = []\n",
    "    avg_fit_re = []\n",
    "    temp_r = rank\n",
    "#     print(temp_r)\n",
    "    s = temp_r\n",
    "    my_dict = {i:s.count(i) for i in range(1,max(s)+1)}\n",
    "#     print(my_dict)\n",
    "    for k in my_dict.keys():\n",
    "        d = my_dict[k]\n",
    "        if k > 1: \n",
    "    #         print(k)\n",
    "            sume = sum(my_dict[i] for i in range(1, k))\n",
    "    #         print(\"sume\",sume)\n",
    "            ff = 10 - sume -0.5*(d - 1)\n",
    "            avg_fit.append(ff)\n",
    "        else: \n",
    "            ff = 10 - 0.5*(d-1)\n",
    "            avg_fit.append(ff)\n",
    "\n",
    "    for j in temp_r:\n",
    "    #     print(\"e\",e)\n",
    "        for n,e in enumerate(my_dict.keys()):\n",
    "    #         print(\"j\",j)\n",
    "            if e == j:\n",
    "                m = avg_fit[n]\n",
    "                avg_fit_re.append(m)\n",
    "#     print(avg_fit)\n",
    "#     print(avg_fit_re)\n",
    "#     print(temp_r)\n",
    "    return avg_fit_re"
   ]
  },
  {
   "cell_type": "code",
   "execution_count": 537,
   "metadata": {},
   "outputs": [],
   "source": [
    "def fitness(avg_fit, rank,f1,f2, ss):\n",
    "    tmp_avg = avg_fit\n",
    "    tmp_rank = rank\n",
    "    tmp_f1 = f1\n",
    "    tmp_f2 = f2\n",
    "    h = 0\n",
    "    shr_fit = []\n",
    "    scaled_fit = []\n",
    "    nico = []\n",
    "    for n,i in enumerate(tmp_rank):\n",
    "        d = 0\n",
    "        nc = 0\n",
    "        dij = []\n",
    "        for m,j in enumerate(tmp_rank):\n",
    "            if i ==j and n == m: \n",
    "                d = 1\n",
    "                dij.append(d)\n",
    "            if i == j and n != m:\n",
    "                d = np.sqrt((f1[n] - f1[m]/1)**2 + (f2[n] - f2[m]/1)**2)\n",
    "                if d < ss: \n",
    "                    d = 1 - d/ss\n",
    "                elif d > ss: \n",
    "                    d = 0\n",
    "                dij.append(d)\n",
    "        for k in dij: \n",
    "            nc +=k\n",
    "        nico.append(nc)\n",
    "#     print(nico)\n",
    "\n",
    "    for e in range(N):\n",
    "        h = tmp_avg[e]/nico[e]\n",
    "        shr_fit.append(h)\n",
    "#     print(shr_fit)  \n",
    "\n",
    "    for num, ele in enumerate(tmp_rank):\n",
    "        sumee = 0 \n",
    "        c = 0\n",
    "        for n, l in enumerate(tmp_rank): \n",
    "            if ele == l: \n",
    "                sumee += shr_fit[n]\n",
    "                c += 1\n",
    "        if sumee == 0:\n",
    "            sumee = 1\n",
    "        scf = shr_fit[num] * (tmp_avg[num] * c / sumee)\n",
    "        scaled_fit.append(scf)\n",
    "    return scaled_fit"
   ]
  },
  {
   "cell_type": "code",
   "execution_count": 443,
   "metadata": {},
   "outputs": [],
   "source": [
    "def combine_string(pop):\n",
    "    a = pop\n",
    "    combine = []\n",
    "    for i in range(len(a[0])):\n",
    "        c = []\n",
    "        for j in range(len(a)):\n",
    "            c = c + a[j][i]\n",
    "        combine.append(c)\n",
    "#     print(combine)\n",
    "    return combine"
   ]
  },
  {
   "cell_type": "code",
   "execution_count": 444,
   "metadata": {},
   "outputs": [],
   "source": [
    "def split_strings(combine, N, n):\n",
    "    spliti = []\n",
    "    likea = []\n",
    "    donea = []\n",
    "    for i in range(0,len(combine[0]),n):\n",
    "        c = []\n",
    "        for j in range(len(combine)):\n",
    "            c = combine[j][i:i+n]\n",
    "            spliti.append(c)\n",
    "#     print(spliti)\n",
    "    # print(spliti)\n",
    "    for i in range(0,len(spliti), N):\n",
    "        likea = spliti[i:i+N]\n",
    "        donea.append(likea)\n",
    "#     print(donea)\n",
    "    return donea"
   ]
  },
  {
   "cell_type": "code",
   "execution_count": 445,
   "metadata": {},
   "outputs": [],
   "source": [
    "def Rand(start, end, num): \n",
    "    res = [] \n",
    "  \n",
    "    for j in range(num): \n",
    "        res.append(random.randint(start, end)) \n",
    "  \n",
    "    return res"
   ]
  },
  {
   "cell_type": "code",
   "execution_count": 446,
   "metadata": {},
   "outputs": [],
   "source": [
    "# #############################################3 1st #################################################\n",
    "# def srws(fit_val, pop_a):\n",
    "# #     print(len(fit_val))\n",
    "#     pro_ar = []\n",
    "#     a = pop_a\n",
    "# #     print()\n",
    "#     mating_par = []\n",
    "# #     mating_par1 = []\n",
    "#     pi_old = 0\n",
    "#     for i in fit_val:\n",
    "#         if sum(fit_val) == 0:\n",
    "#             pi = 1/len(fit_val)\n",
    "#         else:\n",
    "#             pi = float(i)/float(sum(fit_val))\n",
    "#         pro_ar.append(pi_old + pi*360)\n",
    "#         pi_old += pi*360\n",
    "#     print(\"pro_arr\",pro_ar)\n",
    "#     c = []\n",
    "#     x = Rand(0,360,len(fit_val))\n",
    "#     print(\"x\",x)\n",
    "# #     print(\"Length of x\",len(x))\n",
    "#     count = 0\n",
    "#     for i in range(len(x)):\n",
    "#         for j in range(len(pro_ar)):\n",
    "# #             print(\"element in x\",x[i])\n",
    "#             if x[i] == 360:\n",
    "#                 x[i] = 359.5\n",
    "#             if x[i] < pro_ar[j]:\n",
    "#                 print(\"X and element\", x[i],pro_ar[j])\n",
    "#                 mating_par.append(a[j])\n",
    "#                 count += 1\n",
    "#                 break\n",
    "#             else: \n",
    "#                 continue\n",
    "#     print(\"count\",count)\n",
    "#     print(\"size of fit_val, Pro_ar, mating_par, a\", len(fit_val), len(pro_ar), len(mating_par), len(a))\n",
    "#     assert len(mating_par) == len(a)\n",
    "#     return mating_par"
   ]
  },
  {
   "cell_type": "code",
   "execution_count": 447,
   "metadata": {},
   "outputs": [],
   "source": [
    "def srws(fit_val, pop_a):\n",
    "#     print(len(fit_val))\n",
    "    pro_ar = []\n",
    "    a = pop_a\n",
    "#     print()\n",
    "    mating_par = []\n",
    "#     mating_par1 = []\n",
    "    pi_old = 0\n",
    "    for i in fit_val:\n",
    "        if sum(fit_val) == 0:\n",
    "            pi = 1/len(fit_val)\n",
    "        else:\n",
    "            pi = float(i)/float(sum(fit_val))\n",
    "        pro_ar.append(pi_old + pi*360)\n",
    "        pi_old += pi*360\n",
    "#     print(pro_ar)\n",
    "    c = []\n",
    "    x = Rand(0,360,len(fit_val))\n",
    "#     print(x)\n",
    "    for i in range(len(x)):\n",
    "        for j in range(len(pro_ar)): \n",
    "            if x[i] == 360:\n",
    "                x[i] = 359.25\n",
    "            if x[i] < pro_ar[j]:\n",
    "                mating_par.append(a[j])\n",
    "#                 mating_par.append(a[j])\n",
    "#                 mating_par1.append(b[j])\n",
    "                break\n",
    "            else: \n",
    "                continue\n",
    "#     c = concatenate_list(mating_par, mating_par1)\n",
    "#     print(mating_par)\n",
    "    return mating_par\n",
    "\n",
    "# mating_par = srws(fit_, pop)\n",
    "# print(mating_par)"
   ]
  },
  {
   "cell_type": "code",
   "execution_count": 495,
   "metadata": {},
   "outputs": [],
   "source": [
    "def two_point_crossover(mating_pool, prob_c = 0.80):  #mating pool from roulette wheel and crossover probability goes into this. default is 0.80\n",
    "    if np.random.rand() < prob_c:\n",
    "        offspring_pool = []\n",
    "        x = mating_pool\n",
    "        a = random.randint(1, len(x[0])/2)\n",
    "        b = random.randint(len(x[0])/2, len(x[0]))\n",
    "        if a == b:\n",
    "#             print(\"violated\")\n",
    "            a = random.randrange(0, len(x[0]),2)\n",
    "            b = random.randrange(0, len(x[0]),2)\n",
    "#         print(a,b)\n",
    "\n",
    "        for i in x:\n",
    "            r = random.sample(x, 2)\n",
    "#             print(\"r\",r)\n",
    "            r[0][a:b] = r[-1][a:b] \n",
    "            r[-1][a:b] = r[0][a:b]\n",
    "            new_child_0 = r[0]\n",
    "            new_child_1 =  r[-1]\n",
    "            if len(x) > len(offspring_pool):\n",
    "                offspring_pool.append(new_child_0)\n",
    "                if len(x) < len(offspring_pool):\n",
    "                    offspring_pool.append(new_child_1)\n",
    "\n",
    "    else: \n",
    "        offspring_pool = mating_pool\n",
    "#     print(\"offspring_pool\", offspring_pool)\n",
    "    return offspring_pool"
   ]
  },
  {
   "cell_type": "code",
   "execution_count": 488,
   "metadata": {},
   "outputs": [],
   "source": [
    "def mutation(offspring_pool, prob_m):\n",
    "    x = offspring_pool\n",
    "#     print(\"mutation\",len(x))\n",
    "    d = np.random.rand()\n",
    "#     print(d)\n",
    "    if d < prob_m: \n",
    "        p =np.random.randint(len(x[0])-1)\n",
    "#         print(p)\n",
    "        k = x[p]\n",
    "#         print(k[p])\n",
    "        k[p] = 1 if k[p] == 0 else 0\n",
    "#         print(type(x))\n",
    "    return x"
   ]
  },
  {
   "cell_type": "code",
   "execution_count": 1001,
   "metadata": {},
   "outputs": [
    {
     "name": "stdout",
     "output_type": "stream",
     "text": [
      "pop (2, 80, 10)\n",
      "pop (2, 80, 10)\n",
      "pop (2, 80, 10)\n",
      "pop (2, 80, 10)\n",
      "pop (2, 80, 10)\n",
      "pop (2, 80, 10)\n",
      "pop (2, 80, 10)\n",
      "pop (2, 80, 10)\n",
      "pop (2, 80, 10)\n",
      "pop (2, 80, 10)\n",
      "best (0.01171875, 0.1417553150910899)\n"
     ]
    },
    {
     "data": {
      "image/png": "[encoded data removed]",
      "text/plain": [
       "<Figure size 432x288 with 1 Axes>"
      ]
     },
     "metadata": {
      "needs_background": "light"
     },
     "output_type": "display_data"
    }
   ],
   "source": [
    "import itertools\n",
    "N = 80\n",
    "n = 10\n",
    "decision_variables = 2\n",
    "ss = 0.5 \n",
    "prob_c = 0.85\n",
    "prob_m = 0.01\n",
    "# def main(): \n",
    "run = 0\n",
    "final_pop = []\n",
    "final_f1 = []\n",
    "final_f2 = []\n",
    "while run < 10:\n",
    "    pop = population_gen(N,n,decision_variables)\n",
    "    print(\"pop\",np.array(pop).shape)\n",
    "    final_1, final_2 = [],[]\n",
    "    v = 0\n",
    "    while v < 10:\n",
    "        b2d = var_split(pop)\n",
    "        decode = decode_split(0,1,n,b2d)\n",
    "        f1,f2 = ZDT1(decode)\n",
    "#         print(np.array(f1).shape,np.array(f2).shape)\n",
    "        rank = rank_cal(f1,f2)\n",
    "        avg_fitne = avg_fitness_val(rank)\n",
    "#         print(\"average fitness\", np.array(avg_fitne).shape)\n",
    "        scaled_fit = fitness(avg_fitne, rank, f1,f2,ss)\n",
    "#         print(\"scaled_fit\", np.array(scaled_fit).shape)\n",
    "        combine = combine_string(pop)\n",
    "#         print(\"combine\", np.array(combine).shape)\n",
    "        mating_pool = srws(scaled_fit, combine)\n",
    "#         assert len(mating_pool) == len(pop)\n",
    "#         print(\"mating_pool\",np.array(mating_pool).shape)\n",
    "        crossover = two_point_crossover(mating_pool, prob_c)\n",
    "#         print(\"Crossover\",np.array(crossover).shape)\n",
    "        mut = mutation(crossover, prob_m)\n",
    "#         print(\"Mutation\",np.array(mut).shape)\n",
    "        child = split_strings(mut, N, n)\n",
    "#         print(\"child\",np.array(child).shape)\n",
    "        pop = child\n",
    "        final_1.append(f1)\n",
    "        final_2.append(f2)\n",
    "        v += 1\n",
    "#     print(\"f1\",final_1)\n",
    "#     print(\"f2\",final_2)\n",
    "#     with open(\"ZDT1\", \"w\") as outfile:\n",
    "#         outfile.write(\"\\n\".join(str(i) for i in tme2)) \n",
    "    final_f1.append(f1)\n",
    "    final_f2.append(f2)\n",
    "    with open(\"ZDT4.txt\", \"w\") as outfile:\n",
    "        outfile.write(\"\\n, F1 values, \\n\".join(str(i) for i in final_f1)) \n",
    "        outfile.write(\"\\n,  F2, values, \\n\".join(str(i) for i in final_f2))\n",
    "    run += 1\n",
    "x1 = list(itertools.chain.from_iterable(final_f1))\n",
    "x2 = list(itertools.chain.from_iterable(final_f2))\n",
    "gg = plt.figure()\n",
    "# plt.scatter(final_1,final_2)\n",
    "plt.scatter(x1,  x2)\n",
    "plt.xlabel('f1')\n",
    "plt.ylabel('f2')\n",
    "plt.title('Function_space')\n",
    "# plt.axis([0,2,0,2])\n",
    "gg.savefig('ZDT4.jpg', format='jpg', dpi=1000)\n",
    "best_value = (min(x1), min(x2))\n",
    "print(\"best\",best_value)\n",
    "# r, y1, y2 = final_rank_cal(x1,x2)\n",
    "# plt.scatter(y1,y2)"
   ]
  },
  {
   "cell_type": "code",
   "execution_count": 1002,
   "metadata": {},
   "outputs": [
    {
     "name": "stdout",
     "output_type": "stream",
     "text": [
      "[[0.9853515625, 0.9892578125, 0.9892578125, 0.9892578125, 0.9892578125, 0.9892578125, 0.9892578125, 0.9892578125, 0.9892578125, 0.9892578125, 0.9892578125, 0.9892578125, 0.9892578125, 0.9892578125, 0.9892578125, 0.9892578125, 0.9892578125, 0.9892578125, 0.9892578125, 0.9892578125, 0.9892578125, 0.9892578125, 0.9892578125, 0.9853515625, 0.9892578125, 0.9853515625, 0.9892578125, 0.9892578125, 0.9892578125, 0.9892578125, 0.9853515625, 0.9892578125, 0.9892578125, 0.9853515625, 0.9853515625, 0.9853515625, 0.9892578125, 0.9892578125, 0.9892578125, 0.9892578125, 0.9892578125, 0.9892578125, 0.9892578125, 0.9892578125, 0.9892578125, 0.9892578125, 0.9853515625, 0.9892578125, 0.9892578125, 0.9853515625, 0.9853515625, 0.9892578125, 0.9892578125, 0.9892578125, 0.9853515625, 0.9892578125, 0.9892578125, 0.9853515625, 0.9892578125, 0.9853515625, 0.9892578125, 0.9892578125, 0.9892578125, 0.9853515625, 0.9853515625, 0.9892578125, 0.9853515625, 0.9853515625, 0.9892578125, 0.9892578125, 0.9892578125, 0.9853515625, 0.9892578125, 0.9892578125, 0.9892578125, 0.9892578125, 0.9892578125, 0.9892578125, 0.9892578125, 0.9892578125]]\n",
      "0.9853515625\n"
     ]
    }
   ],
   "source": [
    "print(decode)\n",
    "print(min(decode[0]))"
   ]
  },
  {
   "cell_type": "code",
   "execution_count": 836,
   "metadata": {},
   "outputs": [
    {
     "name": "stdout",
     "output_type": "stream",
     "text": [
      "pop (2, 100, 10)\n"
     ]
    },
    {
     "data": {
      "image/png": "[encoded data removed]",
      "text/plain": [
       "<Figure size 432x288 with 1 Axes>"
      ]
     },
     "metadata": {
      "needs_background": "light"
     },
     "output_type": "display_data"
    }
   ],
   "source": [
    "main()\n"
   ]
  },
  {
   "cell_type": "code",
   "execution_count": 668,
   "metadata": {},
   "outputs": [],
   "source": [
    "k = 0\n",
    "while k < 10: \n",
    "    main()"
   ]
  },
  {
   "cell_type": "code",
   "execution_count": 318,
   "metadata": {},
   "outputs": [
    {
     "data": {
      "text/plain": [
       "<matplotlib.collections.PathCollection at 0x219274699b0>"
      ]
     },
     "execution_count": 318,
     "metadata": {},
     "output_type": "execute_result"
    },
    {
     "data": {
      "image/png": "[encoded data removed]",
      "text/plain": [
       "<Figure size 432x288 with 1 Axes>"
      ]
     },
     "metadata": {
      "needs_background": "light"
     },
     "output_type": "display_data"
    }
   ],
   "source": [
    "plt.scatter(f1,f2)"
   ]
  },
  {
   "cell_type": "code",
   "execution_count": null,
   "metadata": {},
   "outputs": [],
   "source": []
  }
 ],
 "metadata": {
  "kernelspec": {
   "display_name": "Python 3",
   "language": "python",
   "name": "python3"
  },
  "language_info": {
   "codemirror_mode": {
    "name": "ipython",
    "version": 3
   },
   "file_extension": ".py",
   "mimetype": "text/x-python",
   "name": "python",
   "nbconvert_exporter": "python",
   "pygments_lexer": "ipython3",
   "version": "3.7.3"
  }
 },
 "nbformat": 4,
 "nbformat_minor": 2
}
